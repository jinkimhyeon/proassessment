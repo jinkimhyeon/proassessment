{
 "cells": [
  {
   "cell_type": "code",
   "execution_count": 1,
   "metadata": {},
   "outputs": [],
   "source": [
    "#include <studio.h>"
   ]
  },
  {
   "cell_type": "code",
   "execution_count": 3,
   "metadata": {},
   "outputs": [
    {
     "ename": "SyntaxError",
     "evalue": "invalid syntax (<ipython-input-3-d46f379861b5>, line 1)",
     "output_type": "error",
     "traceback": [
      "\u001b[1;36m  File \u001b[1;32m\"<ipython-input-3-d46f379861b5>\"\u001b[1;36m, line \u001b[1;32m1\u001b[0m\n\u001b[1;33m    int memo[2][2][2][2][2][2][2] = {};\u001b[0m\n\u001b[1;37m        ^\u001b[0m\n\u001b[1;31mSyntaxError\u001b[0m\u001b[1;31m:\u001b[0m invalid syntax\n"
     ]
    }
   ],
   "source": [
    "int memo[2][2][2][2][2][2][2] = {};\n",
    "int change(int btn[], int lamp[])\n",
    "{\n",
    "    int i, cnt=0;\n",
    "    for(i=0; i<7; i++)\n",
    "    if(btn[i] == 1)\n",
    "    {\n",
    "        lamp[i] = !lamp[i];\n",
    "        lamp[(i+1) % 7] =!lamp[(i+1) % 7];\n",
    "        lamp[(i+6) % 7] = !lamp[(i+6) % 7];\n",
    "    }\n",
    "    for(i=0; i<7; i++)cnt=cnt+lamp[i];\n",
    "    return cnt;\n",
    "}\n",
    "void search(int a,iny b,int c,int d,int e,int f,int g)\n",
    "{\n",
    "    int i, btn[7]={a,b,c,d,e,f,g};\n",
    "    int lamp[7]={0,0,1,0,1,0,1};\n",
    "    for(i=0;i<7,i++)if(btn[i]>=2)return;\n",
    "    if(memo[a][b][c][d][e][f][g]==1)return;\n",
    "    memo[a][b][c][d][e][f][g]=1;\n",
    "    if(change(btn,lamp)==7)\n",
    "    {\n",
    "        for(i=0;i<7,i++)printf(\" %d \",btn[i]);\n",
    "        printf(\"\\n\");\n",
    "    }\n",
    "    search(a+1,b,c,d,e,f,g);\n",
    "    search(a,b+1,c,d,e,f,g);\n",
    "    search(a,b,c+1,d,e,f,g);\n",
    "    search(a,b,c,d+1,e,f,g);\n",
    "    search(a,b,c,d,e+1,f,g);\n",
    "    search(a,b,c,d,e,f+1,g);\n",
    "    search(a,b,c,d,e,f,g+1);\n",
    "}\n",
    "int main()\n",
    "{\n",
    "    printf(\"1번 2번 3번 4번 5번 6번 7번\\n\");\n",
    "    search(0,0,0,0,0,0,0);\n",
    "    return 0;\n",
    "}"
   ]
  },
  {
   "cell_type": "code",
   "execution_count": null,
   "metadata": {},
   "outputs": [],
   "source": []
  }
 ],
 "metadata": {
  "kernelspec": {
   "display_name": "Python 3",
   "language": "python",
   "name": "python3"
  },
  "language_info": {
   "codemirror_mode": {
    "name": "ipython",
    "version": 3
   },
   "file_extension": ".py",
   "mimetype": "text/x-python",
   "name": "python",
   "nbconvert_exporter": "python",
   "pygments_lexer": "ipython3",
   "version": "3.8.3"
  }
 },
 "nbformat": 4,
 "nbformat_minor": 4
}
